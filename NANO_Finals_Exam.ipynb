{
  "nbformat": 4,
  "nbformat_minor": 0,
  "metadata": {
    "colab": {
      "name": "NANO_Finals Exam",
      "provenance": [],
      "authorship_tag": "ABX9TyMP6OW+g9aCpOMgzALhBsZq",
      "include_colab_link": true
    },
    "kernelspec": {
      "name": "python3",
      "display_name": "Python 3"
    },
    "language_info": {
      "name": "python"
    }
  },
  "cells": [
    {
      "cell_type": "markdown",
      "metadata": {
        "id": "view-in-github",
        "colab_type": "text"
      },
      "source": [
        "<a href=\"https://colab.research.google.com/github/josh1478/Numerical-methods-58012/blob/main/NANO_Finals_Exam.ipynb\" target=\"_parent\"><img src=\"https://colab.research.google.com/assets/colab-badge.svg\" alt=\"Open In Colab\"/></a>"
      ]
    },
    {
      "cell_type": "code",
      "execution_count": 5,
      "metadata": {
        "colab": {
          "base_uri": "https://localhost:8080/"
        },
        "id": "uVVWBcdz3xZh",
        "outputId": "f0b28cbf-9f0d-41b8-c89f-a4c39ef0207d"
      },
      "outputs": [
        {
          "output_type": "stream",
          "name": "stdout",
          "text": [
            "(2.3504023872876028, 2.609470847500631e-14)\n",
            "Integral =  2.3504023872876028\n"
          ]
        }
      ],
      "source": [
        "from scipy.integrate import quad\n",
        "from numpy import exp\n",
        "result = quad(lambda x: exp(x),-1,1)\n",
        "print(result)\n",
        "print('Integral = ', result[0])"
      ]
    }
  ]
}